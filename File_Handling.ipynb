{
 "cells": [
  {
   "cell_type": "code",
   "execution_count": 16,
   "id": "0b57082f-ed81-4d23-aab1-4f64e42079e6",
   "metadata": {},
   "outputs": [
    {
     "name": "stdout",
     "output_type": "stream",
     "text": [
      "Hello, this is a test file. We are learning File Handling in Python. \n"
     ]
    }
   ],
   "source": [
    "try:\n",
    "    with open (\"sample.txt\") as rfile :\n",
    "        print(rfile.read()) #reads and prints text\n",
    "    \n",
    "except FileNotFoundError:\n",
    "    print(\"Error: sample.txt not found. Please check the file path.\")\n",
    "\n",
    "except Exception as e: \n",
    "        print(f\"An unexpected error happened: {e}\")\n"
   ]
  },
  {
   "cell_type": "code",
   "execution_count": null,
   "id": "cd050e3c-01c7-405c-a151-f13286501e3e",
   "metadata": {},
   "outputs": [],
   "source": []
  },
  {
   "cell_type": "code",
   "execution_count": null,
   "id": "19cfbd9c-f392-459e-9734-726fbe542476",
   "metadata": {},
   "outputs": [],
   "source": []
  }
 ],
 "metadata": {
  "kernelspec": {
   "display_name": "Python 3 (ipykernel)",
   "language": "python",
   "name": "python3"
  },
  "language_info": {
   "codemirror_mode": {
    "name": "ipython",
    "version": 3
   },
   "file_extension": ".py",
   "mimetype": "text/x-python",
   "name": "python",
   "nbconvert_exporter": "python",
   "pygments_lexer": "ipython3",
   "version": "3.13.2"
  }
 },
 "nbformat": 4,
 "nbformat_minor": 5
}
