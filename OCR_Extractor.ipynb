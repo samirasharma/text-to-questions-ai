{
 "cells": [
  {
   "cell_type": "code",
   "execution_count": 20,
   "id": "f13fd60b-4724-4581-b7c8-b34957c75e22",
   "metadata": {},
   "outputs": [],
   "source": [
    "import cv2 as cv\n",
    "import pytesseract\n",
    "from PIL import Image, ImageFilter, ImageEnhance, ImageOps\n",
    "import easyocr\n",
    "import numpy as np"
   ]
  },
  {
   "cell_type": "code",
   "execution_count": 21,
   "id": "cd9e6ef1-6346-4471-beb2-61e00c69f84a",
   "metadata": {},
   "outputs": [
    {
     "name": "stdout",
     "output_type": "stream",
     "text": [
      "Pytesseract image starts here ----\n",
      "\n",
      "Peart -\n",
      "\n",
      "Cm, a :\n",
      "Vit WT\n",
      "\n",
      "a\n",
      "\n",
      "\\\n",
      "\n",
      "RP ee = eng _*\n",
      "\n",
      "\n",
      "Easy ocr starts here -----\n",
      "\n",
      "Efozt \" Aoal= Aba_ab Repeet ngA times 0 Lt 032_ Fex_L ftom I6 humbenUklaettate Loxdev Swap_them:3> 1 Here Ao-Lx(n-1) k 20 6 __ Cn 2) Now) +tox ~otuer_baund_| best , 'cal  - i_ Lrexd when everyming Repeat: n:l bmes fvon) 0 to n -2 Fot i am numbexli slbd\" numbex Ci ) Ik Swap tm Eis e No Swap dso: Olo) \n"
     ]
    }
   ],
   "source": [
    "def main():\n",
    "\n",
    "    img_path = 'sample_image_2.png'\n",
    "    \n",
    "    text_pytesseract = printtextwithtesseract(img_path)\n",
    "    print('Pytesseract image starts here ----\\n')\n",
    "    print(text_pytesseract)\n",
    "\n",
    "    text_easyocr = printtextwitheasyocr(img_path)\n",
    "    \n",
    "    print('Easy ocr starts here -----\\n')\n",
    "    print(text_easyocr)\n",
    "\n",
    "  \n",
    "\n",
    "def printtextwithtesseract(image_path):\n",
    "\n",
    "    img = preprocess_image(image_path)\n",
    "    \n",
    "    # Set Tesseract config for handwriting\n",
    "    #--oem 3\tUse LSTM neural network engine\t. It is Better for handwriting than the legacy engine\n",
    "    #--psm 7\tTreat image as a single line of text\tFocuses on line-by-line recognition\n",
    "    #-c tessedit_char_whitelist\tLimit recognized characters to letters + numbers\tReduces misreads by ignoring irrelevant symbols\n",
    "    \n",
    "   # custom_config = r'--oem 3 --psm 7 -c tessedit_char_whitelist=abcdefghijklmnopqrstuvwxyzABCDEFGHIJKLMNOPQRSTUVWXYZ0123456789'\n",
    "    #text = pytesseract.image_to_string(img, config=custom_config)\n",
    "    text = pytesseract.image_to_string(img)\n",
    "    return text\n",
    "\n",
    "\n",
    "def printtextwitheasyocr(image_path):\n",
    "    reader = easyocr.Reader(['en'], gpu = True) #Use GPU for faster processing\n",
    "    img = preprocess_image(image_path)\n",
    "    result = reader.readtext(img, detail=0, paragraph=True)\n",
    "    return ' '.join(result) # since result is list of strings we are converting it to string with this step. \n",
    "\n",
    "    \n",
    "\n",
    "def preprocess_image(img_path):\n",
    "\n",
    "    img = cv.imread(img_path)\n",
    "    \n",
    "    #convert image to grayscale\n",
    "    img = cv.cvtColor(img,cv.COLOR_BGR2GRAY)\n",
    "\n",
    "    # Resize image to improve OCR accuracy\n",
    "    scale_factor = 2\n",
    "    img = cv.resize(img, (img.shape[1] * scale_factor, img.shape[0] * scale_factor), interpolation=cv.INTER_LINEAR)\n",
    "\n",
    "     # Apply Gaussian blur to remove noise\n",
    "    img = cv.GaussianBlur(img, (3, 3), 0)\n",
    "\n",
    "    # Increase contrast using PIL\n",
    "    pil_image = Image.fromarray(img)\n",
    "    enhancer = ImageEnhance.Contrast(pil_image)\n",
    "    pil_image = enhancer.enhance(2)  # Enhance contrast\n",
    "\n",
    "      # Apply binary thresholding\n",
    "    img = cv.threshold(np.array(pil_image), 0, 255, cv.THRESH_BINARY + cv.THRESH_OTSU)[1]\n",
    "\n",
    "\n",
    "    return img\n",
    "main()    "
   ]
  },
  {
   "cell_type": "code",
   "execution_count": 22,
   "id": "a3850a05-a1e9-4022-b2bd-4888a855beb2",
   "metadata": {},
   "outputs": [],
   "source": [
    "#img = cv.imread('sample_image.png', cv.IMREAD_COLOR)\n",
    "#cv.imshow('image', img)\n",
    "#cv.waitKey(0)\n",
    "#cv.destroyAllWindows()"
   ]
  },
  {
   "cell_type": "code",
   "execution_count": null,
   "id": "549efb10-8a91-4c50-b478-0edd0d208adc",
   "metadata": {},
   "outputs": [],
   "source": []
  },
  {
   "cell_type": "code",
   "execution_count": null,
   "id": "bfedcad2-b363-4ffa-a2ec-2d2d88e54ff2",
   "metadata": {},
   "outputs": [],
   "source": []
  }
 ],
 "metadata": {
  "kernelspec": {
   "display_name": "Python 3 (ipykernel)",
   "language": "python",
   "name": "python3"
  },
  "language_info": {
   "codemirror_mode": {
    "name": "ipython",
    "version": 3
   },
   "file_extension": ".py",
   "mimetype": "text/x-python",
   "name": "python",
   "nbconvert_exporter": "python",
   "pygments_lexer": "ipython3",
   "version": "3.13.2"
  }
 },
 "nbformat": 4,
 "nbformat_minor": 5
}
